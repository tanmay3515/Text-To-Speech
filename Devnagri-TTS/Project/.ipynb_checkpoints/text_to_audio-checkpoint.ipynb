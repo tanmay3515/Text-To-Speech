{
 "cells": [
  {
   "cell_type": "code",
   "execution_count": 1,
   "metadata": {
    "colab": {
     "base_uri": "https://localhost:8080/"
    },
    "id": "PUcU4ZDijGGG",
    "outputId": "c2c6c098-c1e2-4b13-fb4f-38abd440a59b"
   },
   "outputs": [
    {
     "name": "stdout",
     "output_type": "stream",
     "text": [
      "Collecting gtts\n",
      "  Obtaining dependency information for gtts from https://files.pythonhosted.org/packages/59/a8/e3434904445eacf03b857ac001755d8ffac49b4f3339d63592b4eda009dc/gTTS-2.5.1-py3-none-any.whl.metadata\n",
      "  Downloading gTTS-2.5.1-py3-none-any.whl.metadata (4.1 kB)\n",
      "Requirement already satisfied: requests<3,>=2.27 in /Users/tanmaydubey/anaconda3/lib/python3.11/site-packages (from gtts) (2.31.0)\n",
      "Requirement already satisfied: click<8.2,>=7.1 in /Users/tanmaydubey/anaconda3/lib/python3.11/site-packages (from gtts) (8.1.7)\n",
      "Requirement already satisfied: charset-normalizer<4,>=2 in /Users/tanmaydubey/anaconda3/lib/python3.11/site-packages (from requests<3,>=2.27->gtts) (2.0.4)\n",
      "Requirement already satisfied: idna<4,>=2.5 in /Users/tanmaydubey/anaconda3/lib/python3.11/site-packages (from requests<3,>=2.27->gtts) (3.4)\n",
      "Requirement already satisfied: urllib3<3,>=1.21.1 in /Users/tanmaydubey/anaconda3/lib/python3.11/site-packages (from requests<3,>=2.27->gtts) (2.0.7)\n",
      "Requirement already satisfied: certifi>=2017.4.17 in /Users/tanmaydubey/anaconda3/lib/python3.11/site-packages (from requests<3,>=2.27->gtts) (2024.2.2)\n",
      "Downloading gTTS-2.5.1-py3-none-any.whl (29 kB)\n",
      "Installing collected packages: gtts\n",
      "Successfully installed gtts-2.5.1\n"
     ]
    }
   ],
   "source": [
    "!pip install gtts"
   ]
  },
  {
   "cell_type": "code",
   "execution_count": null,
   "metadata": {
    "colab": {
     "base_uri": "https://localhost:8080/",
     "height": 1000
    },
    "id": "rfSMrdVThuz5",
    "outputId": "56d80d6c-4803-4bc0-fc9e-425deeb4c6e0"
   },
   "outputs": [
    {
     "name": "stdout",
     "output_type": "stream",
     "text": [
      "Audio saved as 0.mp3\n",
      "Audio saved as 1.mp3\n",
      "Audio saved as 2.mp3\n",
      "Audio saved as 3.mp3\n",
      "Audio saved as 4.mp3\n",
      "Audio saved as 5.mp3\n",
      "Audio saved as 6.mp3\n",
      "Audio saved as 7.mp3\n",
      "Audio saved as 8.mp3\n",
      "Audio saved as 9.mp3\n",
      "Audio saved as 10.mp3\n",
      "Audio saved as 11.mp3\n",
      "Audio saved as 12.mp3\n",
      "Audio saved as 13.mp3\n",
      "Audio saved as 14.mp3\n",
      "Audio saved as 15.mp3\n",
      "Audio saved as 16.mp3\n",
      "Audio saved as 17.mp3\n",
      "Audio saved as 18.mp3\n",
      "Audio saved as 19.mp3\n",
      "Audio saved as 20.mp3\n",
      "Audio saved as 21.mp3\n",
      "Audio saved as 22.mp3\n",
      "Audio saved as 23.mp3\n",
      "Audio saved as 24.mp3\n",
      "Audio saved as 25.mp3\n",
      "Audio saved as 26.mp3\n",
      "Audio saved as 27.mp3\n",
      "Audio saved as 28.mp3\n",
      "Audio saved as 29.mp3\n",
      "Audio saved as 30.mp3\n",
      "Audio saved as 31.mp3\n",
      "Audio saved as 32.mp3\n",
      "Audio saved as 33.mp3\n",
      "Audio saved as 34.mp3\n",
      "Audio saved as 35.mp3\n",
      "Audio saved as 36.mp3\n",
      "Audio saved as 37.mp3\n",
      "Audio saved as 38.mp3\n",
      "Audio saved as 39.mp3\n",
      "Audio saved as 40.mp3\n",
      "Audio saved as 41.mp3\n",
      "Audio saved as 42.mp3\n",
      "Audio saved as 43.mp3\n",
      "Audio saved as 44.mp3\n",
      "Audio saved as 45.mp3\n",
      "Audio saved as 46.mp3\n",
      "Audio saved as 47.mp3\n",
      "Audio saved as 48.mp3\n",
      "Audio saved as 49.mp3\n",
      "Audio saved as 50.mp3\n",
      "Audio saved as 51.mp3\n",
      "Audio saved as 52.mp3\n",
      "Audio saved as 53.mp3\n",
      "Audio saved as 54.mp3\n",
      "Audio saved as 55.mp3\n",
      "Audio saved as 56.mp3\n",
      "Audio saved as 57.mp3\n",
      "Audio saved as 58.mp3\n",
      "Audio saved as 59.mp3\n",
      "Audio saved as 60.mp3\n",
      "Audio saved as 61.mp3\n",
      "Audio saved as 62.mp3\n",
      "Audio saved as 63.mp3\n",
      "Audio saved as 64.mp3\n",
      "Audio saved as 65.mp3\n"
     ]
    }
   ],
   "source": [
    "from gtts import gTTS\n",
    "\n",
    "def text_to_speech(text_list):\n",
    "    # Set the language to Hindi\n",
    "    language = 'hi'\n",
    "\n",
    "    for i, text in enumerate(text_list):\n",
    "        # Create a gTTS object\n",
    "        tts = gTTS(text=text, lang=language, slow=False)\n",
    "\n",
    "        # Generate filename\n",
    "        filename = f\"{i}.mp3\"\n",
    "\n",
    "        # Save the audio to a file\n",
    "        tts.save(filename)\n",
    "        print(f\"Audio saved as {filename}\")\n",
    "\n",
    "sentences = ['क', 'का', 'कि', 'की', 'कु', 'कू', 'के', 'कै', 'को', 'कौ', 'कं', 'कः',\n",
    " 'ख', 'खा', 'खि', 'खी', 'खु', 'खू', 'खे', 'खै', 'खो', 'खौ', 'खं', 'खः',\n",
    " 'ग', 'गा', 'गि', 'गी', 'गु', 'गू', 'गे', 'गै', 'गो', 'गौ', 'गं', 'गः',\n",
    " 'घ', 'घा', 'घि', 'घी', 'घु', 'घू', 'घे', 'घै', 'घो', 'घौ', 'घं', 'घः',\n",
    " 'च', 'चा', 'चि', 'ची', 'चु', 'चू', 'चे', 'चै', 'चो', 'चौ', 'चं', 'चः',\n",
    " 'छ', 'छा', 'छि', 'छी', 'छु', 'छू', 'छे', 'छै', 'छो', 'छौ', 'छं', 'छः',\n",
    " 'ज', 'जा', 'जि', 'जी', 'जु', 'जू', 'जे', 'जै', 'जो', 'जौ', 'जं', 'जः',\n",
    " 'झ', 'झा', 'झि', 'झी', 'झु', 'झू', 'झे', 'झै', 'झो', 'झौ', 'झं', 'झः',\n",
    " 'ट', 'टा', 'टि', 'टी', 'टु', 'टू', 'टे', 'टै', 'टो', 'टौ', 'टं', 'टः',\n",
    " 'ठ', 'ठा', 'ठि', 'ठी', 'ठु', 'ठू', 'ठे', 'ठै', 'ठो', 'ठौ', 'ठं', 'ठः',\n",
    " 'ड', 'डा', 'डि', 'डी', 'डु', 'डू', 'डे', 'डै', 'डो', 'डौ', 'डं', 'डः',\n",
    " 'ढ', 'ढा', 'ढि', 'ढी', 'ढु', 'ढू', 'ढे', 'ढै', 'ढो', 'ढौ', 'ढं', 'ढः',\n",
    " 'ण', 'णा', 'णि', 'णी', 'णु', 'णू', 'णे', 'णै', 'णो', 'णौ', 'णं', 'णः',\n",
    " 'त', 'ता', 'ति', 'ती', 'तु', 'तू', 'ते', 'तै', 'तो', 'तौ', 'तं', 'तः',\n",
    " 'थ', 'था', 'थि', 'थी', 'थु', 'थू', 'थे', 'थै', 'थो', 'थौ', 'थं', 'थः',\n",
    " 'द', 'दा', 'दि', 'दी', 'दु', 'दू', 'दे', 'दै', 'दो', 'दौ', 'दं', 'दः',\n",
    " 'ध', 'धा', 'धि', 'धी', 'धु', 'धू', 'धे', 'धै', 'धो', 'धौ', 'धं', 'धः',\n",
    " 'न', 'ना', 'नि', 'नी', 'नु', 'नू', 'ने', 'नै', 'नो', 'नौ', 'नं', 'नः',\n",
    " 'प', 'पा', 'पि', 'पी', 'पु', 'पू', 'पे', 'पै', 'पो', 'पौ', 'पं', 'पः',\n",
    " 'फ', 'फा', 'फि', 'फी', 'फु', 'फू', 'फे', 'फै', 'फो', 'फौ', 'फं', 'फः',\n",
    " 'ब', 'बा', 'बि', 'बी', 'बु', 'बू', 'बे', 'बै', 'बो', 'बौ', 'बं', 'बः',\n",
    " 'भ', 'भा', 'भि', 'भी', 'भु', 'भू', 'भे', 'भै', 'भो', 'भौ', 'भं', 'भः',\n",
    " 'म', 'मा', 'मि', 'मी', 'मु', 'मू', 'मे', 'मै', 'मो', 'मौ', 'मं', 'मः',\n",
    " 'य', 'या', 'यि', 'यी', 'यु', 'यू', 'ये', 'यै', 'यो', 'यौ', 'यं', 'यः',\n",
    " 'र', 'रा', 'रि', 'री', 'रु', 'रू', 'रे', 'रै', 'रो', 'रौ', 'रं', 'रः',\n",
    " 'ल', 'ला', 'लि', 'ली', 'लु', 'लू', 'ले', 'लै', 'लो', 'लौ', 'लं', 'लः',\n",
    " 'व', 'वा', 'वि', 'वी', 'वु', 'वू', 'वे', 'वै', 'वो', 'वौ', 'वं', 'वः',\n",
    " 'श', 'शा', 'शि', 'शी', 'शु', 'शू', 'शे', 'शै', 'शो', 'शौ', 'शं', 'शः',\n",
    " 'स', 'सा', 'सि', 'सी', 'सु', 'सू', 'से', 'सै', 'सो', 'सौ', 'सं', 'सः',\n",
    " 'ष', 'षा', 'षि', 'षी', 'षु', 'षू', 'षे', 'षै', 'षो', 'षौ', 'षं', 'षः',\n",
    " 'ह', 'हा', 'हि', 'ही', 'हु', 'हू', 'हे', 'है', 'हो', 'हौ', 'हं', 'हः']\n",
    "\n",
    "text_to_speech(sentences)"
   ]
  },
  {
   "cell_type": "code",
   "execution_count": null,
   "metadata": {
    "id": "ifj80H9ZjAe7"
   },
   "outputs": [],
   "source": []
  }
 ],
 "metadata": {
  "colab": {
   "provenance": []
  },
  "kernelspec": {
   "display_name": "Python 3 (ipykernel)",
   "language": "python",
   "name": "python3"
  },
  "language_info": {
   "codemirror_mode": {
    "name": "ipython",
    "version": 3
   },
   "file_extension": ".py",
   "mimetype": "text/x-python",
   "name": "python",
   "nbconvert_exporter": "python",
   "pygments_lexer": "ipython3",
   "version": "3.11.5"
  }
 },
 "nbformat": 4,
 "nbformat_minor": 1
}
